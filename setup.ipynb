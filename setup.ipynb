{
 "cells": [
  {
   "cell_type": "code",
   "execution_count": null,
   "metadata": {},
   "outputs": [],
   "source": [
    "import os\n",
    "%run data_manager.ipynb\n",
    "%run selecter.ipynb\n",
    "%run analyst.ipynb\n",
    "d= data_manager()\n",
    "s= selecter()\n",
    "a= analyst()\n",
    "print('d= data_manager(),s= selecter(),a= analyst()')\n",
    "print(f'os.getcwd()={os.getcwd()}')"
   ]
  }
 ],
 "metadata": {
  "kernelspec": {
   "display_name": "Python 3",
   "language": "python",
   "name": "python3"
  },
  "language_info": {
   "codemirror_mode": {
    "name": "ipython",
    "version": 3
   },
   "file_extension": ".py",
   "mimetype": "text/x-python",
   "name": "python",
   "nbconvert_exporter": "python",
   "pygments_lexer": "ipython3",
   "version": "3.7.10"
  }
 },
 "nbformat": 4,
 "nbformat_minor": 4
}
